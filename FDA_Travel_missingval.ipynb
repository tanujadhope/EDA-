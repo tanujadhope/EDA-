{
 "cells": [
  {
   "cell_type": "code",
   "execution_count": 1,
   "id": "9de2ea98",
   "metadata": {},
   "outputs": [
    {
     "ename": "SyntaxError",
     "evalue": "invalid syntax (<ipython-input-1-261c3743fafe>, line 2)",
     "output_type": "error",
     "traceback": [
      "\u001b[1;36m  File \u001b[1;32m\"<ipython-input-1-261c3743fafe>\"\u001b[1;36m, line \u001b[1;32m2\u001b[0m\n\u001b[1;33m    1.forward fill\u001b[0m\n\u001b[1;37m      ^\u001b[0m\n\u001b[1;31mSyntaxError\u001b[0m\u001b[1;31m:\u001b[0m invalid syntax\n"
     ]
    }
   ],
   "source": [
    "### Missing values replacement\n",
    "1.forward fill\n",
    "2.backward fill\n",
    "3.replace by mean\n",
    "4.replace by median\n",
    "5.replace by mode\n",
    "6.drop NA values\n",
    "7.repalcing NAN by interpolation :forward\n",
    "8.repalcing NAN by interpolation :backward \n",
    "9.replacing NAN by constant value  \n"
   ]
  },
  {
   "cell_type": "code",
   "execution_count": null,
   "id": "6618d790",
   "metadata": {},
   "outputs": [],
   "source": [
    "import pandas as pd\n",
    "import numpy as np"
   ]
  },
  {
   "cell_type": "code",
   "execution_count": null,
   "id": "df7ea2f8",
   "metadata": {},
   "outputs": [],
   "source": [
    "df=pd.read_csv(\"D:\\ineuron\\EDA _Dataset\\Dataset\\data1\\Travel.csv\")"
   ]
  },
  {
   "cell_type": "code",
   "execution_count": null,
   "id": "96d2dc78",
   "metadata": {},
   "outputs": [],
   "source": [
    "df.head()"
   ]
  },
  {
   "cell_type": "code",
   "execution_count": null,
   "id": "fd0e2f65",
   "metadata": {},
   "outputs": [],
   "source": [
    "df.columns"
   ]
  },
  {
   "cell_type": "code",
   "execution_count": null,
   "id": "baef28f2",
   "metadata": {},
   "outputs": [],
   "source": [
    "##for keeping categorical data\n",
    "cat_col=[i for i in df.columns  if df[i].dtype=='O']  \n",
    "cat_col"
   ]
  },
  {
   "cell_type": "code",
   "execution_count": null,
   "id": "7c1d4f3a",
   "metadata": {},
   "outputs": [],
   "source": [
    "df_cat=df[cat_col]\n",
    "df_cat"
   ]
  },
  {
   "cell_type": "code",
   "execution_count": null,
   "id": "586a2d25",
   "metadata": {},
   "outputs": [],
   "source": [
    "##for keeping numerical data\n",
    "num_col=[i for i in df.columns  if df[i].dtype!='O']  \n",
    "num_col"
   ]
  },
  {
   "cell_type": "code",
   "execution_count": null,
   "id": "f99fa71c",
   "metadata": {},
   "outputs": [],
   "source": [
    "df_num=df[num_col]\n",
    "df_num"
   ]
  },
  {
   "cell_type": "markdown",
   "id": "00be45f1",
   "metadata": {},
   "source": [
    "## Dealing with missing value using forward fill :ffill\n",
    "## This involves specifying the fill method inside as the fillna() function. This method fills ##each missing row with the value of the nearest one above it.\n",
    "## df_num.fillna(method='ffill',inplace=True)  ,inplace = True makes all the changes in the ##existing DataFrame without returning a new one. Without it, you'd have to re-assign the ##DataFrame to itself.\n"
   ]
  },
  {
   "cell_type": "code",
   "execution_count": 2,
   "id": "9fa7fe40",
   "metadata": {},
   "outputs": [
    {
     "ename": "NameError",
     "evalue": "name 'df' is not defined",
     "output_type": "error",
     "traceback": [
      "\u001b[1;31m---------------------------------------------------------------------------\u001b[0m",
      "\u001b[1;31mNameError\u001b[0m                                 Traceback (most recent call last)",
      "\u001b[1;32m<ipython-input-2-af8ab6777102>\u001b[0m in \u001b[0;36m<module>\u001b[1;34m\u001b[0m\n\u001b[1;32m----> 1\u001b[1;33m \u001b[0mdf_ffil_all\u001b[0m\u001b[1;33m=\u001b[0m\u001b[0mdf\u001b[0m\u001b[1;33m.\u001b[0m\u001b[0mfillna\u001b[0m\u001b[1;33m(\u001b[0m\u001b[0mmethod\u001b[0m\u001b[1;33m=\u001b[0m\u001b[1;34m'ffill'\u001b[0m\u001b[1;33m,\u001b[0m\u001b[0minplace\u001b[0m\u001b[1;33m=\u001b[0m \u001b[1;32mFalse\u001b[0m\u001b[1;33m)\u001b[0m   \u001b[1;31m# by defult axis=0 that is  NAN value is replace with  row above it from which non-NA value could be propagated.\u001b[0m\u001b[1;33m\u001b[0m\u001b[1;33m\u001b[0m\u001b[0m\n\u001b[0m",
      "\u001b[1;31mNameError\u001b[0m: name 'df' is not defined"
     ]
    }
   ],
   "source": [
    "df_ffil_all=df.fillna(method='ffill',inplace= False)   # by defult axis=0 that is  NAN value is replace with  row above it from which non-NA value could be propagated. "
   ]
  },
  {
   "cell_type": "code",
   "execution_count": null,
   "id": "c30e39ba",
   "metadata": {
    "scrolled": true
   },
   "outputs": [],
   "source": [
    "df_ffil_all"
   ]
  },
  {
   "cell_type": "code",
   "execution_count": null,
   "id": "6ed0276f",
   "metadata": {},
   "outputs": [],
   "source": [
    "df_ffil_all.head(20)"
   ]
  },
  {
   "cell_type": "code",
   "execution_count": null,
   "id": "4fb4654c",
   "metadata": {},
   "outputs": [],
   "source": [
    "df"
   ]
  },
  {
   "cell_type": "code",
   "execution_count": null,
   "id": "cd71c7ad",
   "metadata": {},
   "outputs": [],
   "source": [
    " # bfill :backward fill It fills each missing row in the DataFrame with the nearest value below it."
   ]
  },
  {
   "cell_type": "code",
   "execution_count": null,
   "id": "9774b59d",
   "metadata": {},
   "outputs": [],
   "source": [
    "df_bfill_all=df.fillna(method='bfill',inplace=False)"
   ]
  },
  {
   "cell_type": "code",
   "execution_count": null,
   "id": "476341eb",
   "metadata": {},
   "outputs": [],
   "source": [
    "df_bfill_all.head(20)\n"
   ]
  },
  {
   "cell_type": "markdown",
   "id": "031d8ebe",
   "metadata": {},
   "source": [
    "\n",
    "# You can fill  the Nan values in a specific column with the mean, median, mode, or any other value."
   ]
  },
  {
   "cell_type": "code",
   "execution_count": null,
   "id": "28189339",
   "metadata": {},
   "outputs": [],
   "source": [
    "mean_age=(df['Age'].mean())\n",
    "mean_age\n"
   ]
  },
  {
   "cell_type": "code",
   "execution_count": null,
   "id": "b1389502",
   "metadata": {},
   "outputs": [],
   "source": [
    "mean_age=int(df['Age'].mean())\n",
    "mean_age\n"
   ]
  },
  {
   "cell_type": "code",
   "execution_count": null,
   "id": "90363ef2",
   "metadata": {},
   "outputs": [],
   "source": [
    "median_age=int(df['Age'].median())\n",
    "median_age"
   ]
  },
  {
   "cell_type": "code",
   "execution_count": null,
   "id": "052b0287",
   "metadata": {},
   "outputs": [],
   "source": [
    "mode_age=int(df['Age'].mode()[0])\n",
    "mode_age"
   ]
  },
  {
   "cell_type": "code",
   "execution_count": null,
   "id": "ec63efb6",
   "metadata": {},
   "outputs": [],
   "source": [
    "## Replacing using Mean,writing function of mean  then call\n",
    "df=pd.read_csv(\"D:\\ineuron\\EDA _Dataset\\Dataset\\data1\\Travel.csv\")"
   ]
  },
  {
   "cell_type": "code",
   "execution_count": null,
   "id": "3dac0648",
   "metadata": {},
   "outputs": [],
   "source": [
    "def replace_with_mean(data,num_col):   ## function for mean \n",
    "    for i in num_col:\n",
    "        data[i].fillna(int(data[i].mean()),inplace=True)\n",
    "    return "
   ]
  },
  {
   "cell_type": "code",
   "execution_count": null,
   "id": "647847b3",
   "metadata": {},
   "outputs": [],
   "source": [
    "df_mean_fill=df\n",
    "replace_with_mean(df_mean_fill,df_num.columns)"
   ]
  },
  {
   "cell_type": "code",
   "execution_count": null,
   "id": "4ca4c1ed",
   "metadata": {},
   "outputs": [],
   "source": [
    "df_mean_fill"
   ]
  },
  {
   "cell_type": "code",
   "execution_count": null,
   "id": "34264c1c",
   "metadata": {},
   "outputs": [],
   "source": [
    "df_mean_fill.head(20)"
   ]
  },
  {
   "cell_type": "code",
   "execution_count": null,
   "id": "cdfb73c0",
   "metadata": {},
   "outputs": [],
   "source": [
    "## Replacing using Median ,writing function of median then call\n"
   ]
  },
  {
   "cell_type": "code",
   "execution_count": null,
   "id": "4d76488d",
   "metadata": {},
   "outputs": [],
   "source": [
    "def replace_with_median(data,num_col):\n",
    "    for i in num_col:\n",
    "        data[i].replace([np.nan],int(data[i].median()),inplace=True)\n",
    "    return "
   ]
  },
  {
   "cell_type": "code",
   "execution_count": null,
   "id": "0bedfa73",
   "metadata": {},
   "outputs": [],
   "source": [
    "df=pd.read_csv(\"D:\\ineuron\\EDA _Dataset\\Dataset\\data1\\Travel.csv\")\n",
    "df_medianfill=df\n",
    "replace_with_median(df_medianfill,df_num.columns)\n",
    "df_medianfill"
   ]
  },
  {
   "cell_type": "code",
   "execution_count": null,
   "id": "801fa483",
   "metadata": {},
   "outputs": [],
   "source": [
    "df_medianfill.head(20)"
   ]
  },
  {
   "cell_type": "code",
   "execution_count": null,
   "id": "317298dc",
   "metadata": {},
   "outputs": [],
   "source": [
    "## Replacing using Mode ,writing function of mode  then call"
   ]
  },
  {
   "cell_type": "code",
   "execution_count": null,
   "id": "6bc96e4c",
   "metadata": {},
   "outputs": [],
   "source": [
    "def replace_with_mode(data,num_col):\n",
    "    for i in num_col:\n",
    "        data[i].replace([np.nan],data[i].mode()[0],inplace=True)\n",
    "    return "
   ]
  },
  {
   "cell_type": "code",
   "execution_count": null,
   "id": "8ff86a76",
   "metadata": {},
   "outputs": [],
   "source": [
    "df=pd.read_csv(\"D:\\ineuron\\EDA _Dataset\\Dataset\\data1\\Travel.csv\")\n",
    "df_modefill=df\n",
    "replace_with_mode(df_modefill,df_modefill.columns)\n",
    "df_modefill"
   ]
  },
  {
   "cell_type": "code",
   "execution_count": null,
   "id": "f1b60371",
   "metadata": {},
   "outputs": [],
   "source": [
    "#Removing all the rows which contain missing values by  the dropna() function"
   ]
  },
  {
   "cell_type": "code",
   "execution_count": null,
   "id": "f84c18f6",
   "metadata": {},
   "outputs": [],
   "source": [
    "df=pd.read_csv(\"D:\\ineuron\\EDA _Dataset\\Dataset\\data1\\Travel.csv\")\n",
    "df_dropna=df\n",
    "df_dropna=df.dropna()\n",
    "df_dropna"
   ]
  },
  {
   "cell_type": "code",
   "execution_count": null,
   "id": "d1b1c4aa",
   "metadata": {},
   "outputs": [],
   "source": [
    "#Interpolate backwardly across the column:\n",
    "df=pd.read_csv(\"D:\\ineuron\\EDA _Dataset\\Dataset\\data1\\Travel.csv\")\n",
    "df_interpol_backwd=df\n",
    "df_interpol_backwd.interpolate(method ='linear', limit_direction ='backward', inplace=True)\n",
    "df_interpol_backwd\n"
   ]
  },
  {
   "cell_type": "code",
   "execution_count": null,
   "id": "87368322",
   "metadata": {},
   "outputs": [],
   "source": [
    "df=pd.read_csv(\"D:\\ineuron\\EDA _Dataset\\Dataset\\data1\\Travel.csv\")\n",
    "#Interpolate in forward order across the column:\n",
    "df_interpol_forwd=df\n",
    "df_interpol_forwd.interpolate(method ='linear', limit_direction ='forward', inplace=True)\n",
    "df_interpol_forwd\n"
   ]
  },
  {
   "cell_type": "code",
   "execution_count": null,
   "id": "8b0872a3",
   "metadata": {},
   "outputs": [],
   "source": [
    "# filling NA with some constant value"
   ]
  },
  {
   "cell_type": "code",
   "execution_count": null,
   "id": "1872868a",
   "metadata": {},
   "outputs": [],
   "source": [
    "df=pd.read_csv(\"D:\\ineuron\\EDA _Dataset\\Dataset\\data1\\Travel.csv\")\n",
    "#Interpolate in forward order across the column:\n",
    "df_const=df\n",
    "df_const.fillna(37, inplace=True)\n",
    "df_const"
   ]
  },
  {
   "cell_type": "code",
   "execution_count": null,
   "id": "e02e7069",
   "metadata": {},
   "outputs": [],
   "source": [
    "df_const['Age'].fillna(37, inplace=True)\n",
    "df_const['MonthlyIncome'].fillna(37, inplace=True)\n",
    "df_const"
   ]
  }
 ],
 "metadata": {
  "kernelspec": {
   "display_name": "Python 3",
   "language": "python",
   "name": "python3"
  },
  "language_info": {
   "codemirror_mode": {
    "name": "ipython",
    "version": 3
   },
   "file_extension": ".py",
   "mimetype": "text/x-python",
   "name": "python",
   "nbconvert_exporter": "python",
   "pygments_lexer": "ipython3",
   "version": "3.8.8"
  }
 },
 "nbformat": 4,
 "nbformat_minor": 5
}
